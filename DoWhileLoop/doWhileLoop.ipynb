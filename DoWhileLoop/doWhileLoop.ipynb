{
 "cells": [
  {
   "cell_type": "code",
   "execution_count": 1,
   "metadata": {
    "vscode": {
     "languageId": "cpp"
    }
   },
   "outputs": [],
   "source": [
    "#include <iostream>"
   ]
  },
  {
   "cell_type": "markdown",
   "metadata": {},
   "source": [
    "### Do-While Loop in C++\n",
    " - Do some block of code first,  \n",
    "    then repeat again if the condition is true.\n",
    "\n",
    "    `do {  \n",
    "         // code to execute  \n",
    "      } while (condition);`\n"
   ]
  },
  {
   "cell_type": "code",
   "execution_count": 4,
   "metadata": {
    "vscode": {
     "languageId": "cpp"
    }
   },
   "outputs": [
    {
     "name": "stdout",
     "output_type": "stream",
     "text": [
      "Number: 1\n",
      "Number: 2\n",
      "Number: 3\n",
      "Number: 4\n",
      "Number: 5\n",
      "Final number: 5\n"
     ]
    }
   ],
   "source": [
    "int number {0};\n",
    "\n",
    "do{\n",
    "\n",
    "    number++;\n",
    "    std::cout << \"Number: \" << number << std::endl;\n",
    "}while(number < 5);\n",
    "std::cout << \"Final number: \" << number << std::endl;"
   ]
  }
 ],
 "metadata": {
  "kernelspec": {
   "display_name": "C++17",
   "language": "C++17",
   "name": "xcpp17"
  },
  "language_info": {
   "codemirror_mode": "text/x-c++src",
   "file_extension": ".cpp",
   "mimetype": "text/x-c++src",
   "name": "c++",
   "version": "17"
  }
 },
 "nbformat": 4,
 "nbformat_minor": 2
}
