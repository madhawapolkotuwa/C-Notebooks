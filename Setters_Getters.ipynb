{
 "cells": [
  {
   "cell_type": "code",
   "execution_count": 1,
   "metadata": {
    "vscode": {
     "languageId": "cpp"
    }
   },
   "outputs": [],
   "source": [
    "#include <iostream>"
   ]
  },
  {
   "cell_type": "code",
   "execution_count": 15,
   "metadata": {
    "vscode": {
     "languageId": "cpp"
    }
   },
   "outputs": [],
   "source": [
    "class ACControl{\n",
    "    private:\n",
    "        double _temp = 25.0;\n",
    "        double _baseTemp = 25.0;\n",
    "        std::string _acMode = \"Normal\";\n",
    "\n",
    "    public:\n",
    "        std::string getACMode(){\n",
    "            return _acMode;\n",
    "        }\n",
    "\n",
    "        double getTemp(){\n",
    "            return _temp;\n",
    "        }\n",
    "    \n",
    "    void setTemp(double temp){\n",
    "        _temp = temp;\n",
    "        if(_temp == _baseTemp){\n",
    "            _acMode = \"Normal\";\n",
    "        }else if(_temp > _baseTemp){\n",
    "            _acMode = \"Heating\";\n",
    "        }else if(_temp < _baseTemp){\n",
    "            _acMode = \"Cooling\";\n",
    "        }\n",
    "    }\n",
    "\n",
    "}"
   ]
  },
  {
   "cell_type": "markdown",
   "metadata": {},
   "source": [
    "## Get "
   ]
  },
  {
   "cell_type": "code",
   "execution_count": 16,
   "metadata": {
    "vscode": {
     "languageId": "cpp"
    }
   },
   "outputs": [
    {
     "name": "stdout",
     "output_type": "stream",
     "text": [
      "Room Temperature: 25\n",
      "AC Mode: Normal\n"
     ]
    }
   ],
   "source": [
    "ACControl AC1;\n",
    "\n",
    "std::cout << \"Room Temperature: \" << AC1.getTemp() << std::endl;\n",
    "std::cout << \"AC Mode: \" << AC1.getACMode() << std::endl;\n"
   ]
  },
  {
   "cell_type": "markdown",
   "metadata": {},
   "source": [
    "## Set"
   ]
  },
  {
   "cell_type": "code",
   "execution_count": 17,
   "metadata": {
    "vscode": {
     "languageId": "cpp"
    }
   },
   "outputs": [
    {
     "name": "stdout",
     "output_type": "stream",
     "text": [
      "Room Temperature: 30\n",
      "AC Mode: Heating\n"
     ]
    }
   ],
   "source": [
    "AC1.setTemp(30.0);\n",
    "std::cout << \"Room Temperature: \" << AC1.getTemp() << std::endl;\n",
    "std::cout << \"AC Mode: \" << AC1.getACMode() << std::endl;"
   ]
  }
 ],
 "metadata": {
  "kernelspec": {
   "display_name": "C++17",
   "language": "C++17",
   "name": "xcpp17"
  },
  "language_info": {
   "codemirror_mode": "text/x-c++src",
   "file_extension": ".cpp",
   "mimetype": "text/x-c++src",
   "name": "C++17",
   "version": "17"
  }
 },
 "nbformat": 4,
 "nbformat_minor": 2
}
