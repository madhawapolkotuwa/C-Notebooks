{
 "cells": [
  {
   "cell_type": "code",
   "execution_count": 4,
   "metadata": {
    "vscode": {
     "languageId": "cpp"
    }
   },
   "outputs": [],
   "source": [
    "#include <iostream>\n",
    "#include <typeinfo>\n",
    "#include <tuple> // for tuple\n",
    "#include <string>\n",
    "#include <optional>"
   ]
  },
  {
   "cell_type": "markdown",
   "metadata": {},
   "source": [
    "## Getting things out from the c++ functions"
   ]
  },
  {
   "cell_type": "markdown",
   "metadata": {},
   "source": [
    "### Retun by Value"
   ]
  },
  {
   "cell_type": "code",
   "execution_count": null,
   "metadata": {
    "vscode": {
     "languageId": "cpp"
    }
   },
   "outputs": [
    {
     "name": "stdout",
     "output_type": "stream",
     "text": [
      "Add(1,2): 3\n"
     ]
    }
   ],
   "source": [
    "// return integer value\n",
    "int Add(int a , int b){\n",
    "    return a + b;\n",
    "};\n",
    "std::cout << \"Add(1,2): \" << Add(1,2) << std::endl;"
   ]
  },
  {
   "cell_type": "code",
   "execution_count": 10,
   "metadata": {
    "vscode": {
     "languageId": "cpp"
    }
   },
   "outputs": [
    {
     "name": "stdout",
     "output_type": "stream",
     "text": [
      "Hello(\"Madhawa\"): Hello Madhawa\n"
     ]
    }
   ],
   "source": [
    "// return string value\n",
    "std::string Hello(std::string name){\n",
    "    return \"Hello \" + name;\n",
    "};\n",
    "std::cout << \"Hello(\\\"Madhawa\\\"): \" << Hello(\"Madhawa\") << std::endl;"
   ]
  },
  {
   "cell_type": "code",
   "execution_count": 4,
   "metadata": {
    "vscode": {
     "languageId": "cpp"
    }
   },
   "outputs": [
    {
     "name": "stdout",
     "output_type": "stream",
     "text": [
      "result= 2 type of result: d\n"
     ]
    }
   ],
   "source": [
    "// return by auto return type\n",
    "auto Devide(int a, int b){\n",
    "    return a / (double)b;\n",
    "};\n",
    "auto result = Devide(4,2);\n",
    "std::cout << \"result= \"<< result << \" type of result: \" << typeid(result).name() << std::endl;"
   ]
  },
  {
   "cell_type": "code",
   "execution_count": 25,
   "metadata": {
    "vscode": {
     "languageId": "cpp"
    }
   },
   "outputs": [],
   "source": [
    "template<typename T, typename U>\n",
    "auto Sum(T t, U u) -> decltype(t + u)\n",
    "{\n",
    "    return t + u;\n",
    "};"
   ]
  },
  {
   "cell_type": "code",
   "execution_count": 27,
   "metadata": {
    "vscode": {
     "languageId": "cpp"
    }
   },
   "outputs": [
    {
     "name": "stdout",
     "output_type": "stream",
     "text": [
      "result1= 3 type of result1: i\n"
     ]
    }
   ],
   "source": [
    "auto result1 = Sum(1,2); \n",
    "std::cout << \"result1= \"<< result1 << \" type of result1: \" << typeid(result1).name() << std::endl;"
   ]
  },
  {
   "cell_type": "code",
   "execution_count": 29,
   "metadata": {
    "vscode": {
     "languageId": "cpp"
    }
   },
   "outputs": [
    {
     "name": "stdout",
     "output_type": "stream",
     "text": [
      "result2= 3.5 type of result2: d\n"
     ]
    }
   ],
   "source": [
    "auto result2 = Sum(1.2,2.3); \n",
    "std::cout << \"result2= \"<< result2 << \" type of result2: \" << typeid(result2).name() << std::endl;"
   ]
  },
  {
   "cell_type": "markdown",
   "metadata": {},
   "source": [
    "### In and Out Parameters"
   ]
  },
  {
   "cell_type": "code",
   "execution_count": null,
   "metadata": {
    "vscode": {
     "languageId": "cpp"
    }
   },
   "outputs": [
    {
     "name": "stdout",
     "output_type": "stream",
     "text": [
      "output: 21\n"
     ]
    }
   ],
   "source": [
    "// reference out\n",
    "void GetMax(int input1, int input2, int& output){\n",
    "    if(input1 > input2){\n",
    "        output = input1;\n",
    "    }else{\n",
    "        output = input2;\n",
    "    }\n",
    "}\n",
    "\n",
    "int output{};\n",
    "GetMax(12,21,output);\n",
    "std::cout << \"output: \" << output << std::endl;"
   ]
  },
  {
   "cell_type": "code",
   "execution_count": null,
   "metadata": {
    "vscode": {
     "languageId": "cpp"
    }
   },
   "outputs": [
    {
     "name": "stdout",
     "output_type": "stream",
     "text": [
      "out: 12\n"
     ]
    }
   ],
   "source": [
    "// pointer\n",
    "void GetMin(int in1, int in2, int* out){\n",
    "    if(in1 > in2){\n",
    "        *out = in2;\n",
    "    }else{\n",
    "        *out = in1;\n",
    "    }\n",
    "}\n",
    "\n",
    "int out{};\n",
    "GetMin(12,21,&out); // give as reference\n",
    "std::cout << \"out: \" << out << std::endl;"
   ]
  },
  {
   "cell_type": "markdown",
   "metadata": {},
   "source": [
    "### Tuples Retuns\n",
    "\n",
    "C++17 introduces structured bindings, which allow you to unpack the tuple directly into variables:"
   ]
  },
  {
   "cell_type": "code",
   "execution_count": null,
   "metadata": {
    "vscode": {
     "languageId": "cpp"
    }
   },
   "outputs": [],
   "source": [
    "std::tuple<int, std::string, double> getPersonInfo() {\n",
    "    return std::make_tuple(30, \"Alice\", 5.9);\n",
    "};"
   ]
  },
  {
   "cell_type": "code",
   "execution_count": null,
   "metadata": {
    "vscode": {
     "languageId": "cpp"
    }
   },
   "outputs": [
    {
     "name": "stdout",
     "output_type": "stream",
     "text": [
      "Age: 30\n",
      "Name: Alice\n",
      "Height: 5.9\n"
     ]
    }
   ],
   "source": [
    "// Unpack tuple into separate variables\n",
    "auto [age, name, height] = getPersonInfo();\n",
    "    \n",
    "std::cout << \"Age: \" << age << std::endl;\n",
    "std::cout << \"Name: \" << name << std::endl;\n",
    "std::cout << \"Height: \" << height << std::endl;"
   ]
  },
  {
   "cell_type": "markdown",
   "metadata": {},
   "source": [
    "### Optional return "
   ]
  },
  {
   "cell_type": "code",
   "execution_count": 8,
   "metadata": {
    "vscode": {
     "languageId": "cpp"
    }
   },
   "outputs": [],
   "source": [
    "std::optional<size_t> Find_character(const std::string &str, char c){\n",
    "    for(size_t i{}; i < str.size(); i++){\n",
    "        if(str.c_str()[i] == c){\n",
    "            return i;\n",
    "        }\n",
    "    }\n",
    "    return{}; // return null\n",
    "}"
   ]
  }
 ],
 "metadata": {
  "kernelspec": {
   "display_name": "C++17",
   "language": "C++17",
   "name": "xcpp17"
  },
  "language_info": {
   "codemirror_mode": "text/x-c++src",
   "file_extension": ".cpp",
   "mimetype": "text/x-c++src",
   "name": "c++",
   "version": "17"
  }
 },
 "nbformat": 4,
 "nbformat_minor": 2
}
