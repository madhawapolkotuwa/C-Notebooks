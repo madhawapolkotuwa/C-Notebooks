{
 "cells": [
  {
   "cell_type": "markdown",
   "metadata": {},
   "source": [
    "### Here’s a quick, focused explanation of const, constexpr, and constinit in C++"
   ]
  },
  {
   "cell_type": "code",
   "execution_count": 1,
   "metadata": {
    "vscode": {
     "languageId": "cpp"
    }
   },
   "outputs": [],
   "source": [
    "#include <iostream>"
   ]
  },
  {
   "cell_type": "markdown",
   "metadata": {},
   "source": [
    "## const\n",
    "- const variables are constants that  \n",
    "  cannot be modified after they’re initialized. \n",
    "- They’re evaluated at runtime,     \n",
    "  so they’re useful when you want a fixed value  \n",
    "  but don’t need it computed at compile-time."
   ]
  },
  {
   "cell_type": "code",
   "execution_count": 3,
   "metadata": {
    "vscode": {
     "languageId": "cpp"
    }
   },
   "outputs": [
    {
     "name": "stdout",
     "output_type": "stream",
     "text": [
      "Max items allowd: 100\n"
     ]
    },
    {
     "data": {
      "text/plain": [
       "@0x78690f3fcd20"
      ]
     },
     "execution_count": 3,
     "metadata": {},
     "output_type": "execute_result"
    }
   ],
   "source": [
    "const int maxItem = 100;\n",
    "\n",
    "std::cout << \"Max items allowd: \" << maxItem << std::endl;\n",
    "// maxItem = 200; Error: Canot modify a const variable"
   ]
  },
  {
   "cell_type": "markdown",
   "metadata": {},
   "source": [
    "## constexpr\n",
    "- `constexpr` ensures that the variable is a constant  \n",
    "  and must be computed at compile-time, making it suitable  \n",
    "  for things like array sizes or template parameters.  \n",
    "  It’s more restrictive than const since it enforces  \n",
    "  compile-time evaluation."
   ]
  },
  {
   "cell_type": "code",
   "execution_count": 4,
   "metadata": {
    "vscode": {
     "languageId": "cpp"
    }
   },
   "outputs": [
    {
     "name": "stdout",
     "output_type": "stream",
     "text": [
      "Area: 25\n"
     ]
    }
   ],
   "source": [
    "constexpr int square(int x) { return x * x; }\n",
    "\n",
    "constexpr int area = square(5); // Compute at compile-time\n",
    "std::cout << \"Area: \" << area << std::endl;"
   ]
  },
  {
   "cell_type": "markdown",
   "metadata": {},
   "source": [
    "## constinit\n",
    "- `constinit` is newer and ensures that a variable  \n",
    "  is initialized at compile-time but isn’t necessarily  \n",
    "  constant after initialization. It’s useful for  \n",
    "  initializing non-constant globals or  \n",
    "  static variables that only need to be set once."
   ]
  },
  {
   "cell_type": "code",
   "execution_count": null,
   "metadata": {
    "vscode": {
     "languageId": "cpp"
    }
   },
   "outputs": [],
   "source": [
    "constinit int version = 1;\n",
    "\n",
    "version = 2; // Allowed since `constinit` doesn’t make the variable immutable"
   ]
  },
  {
   "cell_type": "markdown",
   "metadata": {},
   "source": [
    "**Use `const` for unchanging values at runtime.**\n",
    "\n",
    "**`constexpr` for compile-time constants.**\n",
    "\n",
    "**`constinit` when you need compile-time  \n",
    "initialization but want flexibility to change values later!**"
   ]
  }
 ],
 "metadata": {
  "kernelspec": {
   "display_name": "C++17",
   "language": "C++17",
   "name": "xcpp17"
  },
  "language_info": {
   "codemirror_mode": "text/x-c++src",
   "file_extension": ".cpp",
   "mimetype": "text/x-c++src",
   "name": "C++17",
   "version": "17"
  }
 },
 "nbformat": 4,
 "nbformat_minor": 2
}
