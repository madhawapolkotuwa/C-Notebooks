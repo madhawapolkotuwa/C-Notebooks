{
 "cells": [
  {
   "cell_type": "markdown",
   "metadata": {},
   "source": [
    "## Enums in C++"
   ]
  },
  {
   "cell_type": "code",
   "execution_count": 1,
   "metadata": {
    "vscode": {
     "languageId": "cpp"
    }
   },
   "outputs": [],
   "source": [
    "#include <iostream>"
   ]
  },
  {
   "cell_type": "markdown",
   "metadata": {},
   "source": [
    "### Example 1\n",
    "* Enum of day of week"
   ]
  },
  {
   "cell_type": "code",
   "execution_count": 2,
   "metadata": {
    "vscode": {
     "languageId": "cpp"
    }
   },
   "outputs": [],
   "source": [
    "enum Day {\n",
    "    sun, // sun = 0\n",
    "    mon, // mon = 1\n",
    "    tue,\n",
    "    wed,\n",
    "    thu,\n",
    "    fri,\n",
    "    sat // sat = 6\n",
    "}"
   ]
  },
  {
   "cell_type": "markdown",
   "metadata": {},
   "source": [
    "* use of enum `ex- using switch case method`"
   ]
  },
  {
   "cell_type": "code",
   "execution_count": 3,
   "metadata": {
    "vscode": {
     "languageId": "cpp"
    }
   },
   "outputs": [
    {
     "name": "stdout",
     "output_type": "stream",
     "text": [
      "Today is Monday!\n"
     ]
    }
   ],
   "source": [
    "Day today;\n",
    "today = mon;\n",
    "\n",
    "switch(today)\n",
    "{\n",
    "    case sun:\n",
    "        std::cout << \"Today is Sunday!\\n\";\n",
    "        break;\n",
    "    case mon:\n",
    "        std::cout << \"Today is Monday!\\n\";\n",
    "        break;\n",
    "    case tue:\n",
    "        std::cout << \"Today is Tuesday!\\n\";\n",
    "        break;\n",
    "    case wed:\n",
    "        std::cout << \"Today is Wednesday!\\n\";\n",
    "        break;\n",
    "    case fri:\n",
    "        std::cout << \"Today is Thursday!\\n\";\n",
    "        break;\n",
    "    case sat:\n",
    "        std::cout << \"Today is Saturday!\\n\";\n",
    "        break;\n",
    "    default:\n",
    "        std::cout << \"Not a day\\n\";\n",
    "}\n"
   ]
  },
  {
   "cell_type": "markdown",
   "metadata": {},
   "source": [
    "### Example 2\n",
    "* Assigning Custom Values to Enums"
   ]
  },
  {
   "cell_type": "code",
   "execution_count": 4,
   "metadata": {
    "vscode": {
     "languageId": "cpp"
    }
   },
   "outputs": [
    {
     "name": "stdout",
     "output_type": "stream",
     "text": [
      "Tokyo: 100000\n"
     ]
    }
   ],
   "source": [
    "enum PostalCode {\n",
    "    tokyo = 100000,\n",
    "    nagoya = 4500001,\n",
    "    osaka = 5300000,\n",
    "    okinawa = 9040000,\n",
    "    saitama = 1748741\n",
    "};\n",
    "PostalCode city = tokyo;\n",
    "std::cout<< \"Tokyo: \" << city << std::endl;"
   ]
  },
  {
   "cell_type": "code",
   "execution_count": 5,
   "metadata": {
    "vscode": {
     "languageId": "cpp"
    }
   },
   "outputs": [
    {
     "name": "stdout",
     "output_type": "stream",
     "text": [
      "Nagoya: 4500001\n"
     ]
    }
   ],
   "source": [
    "city = nagoya;\n",
    "std::cout << \"Nagoya: \" << city << std::endl;"
   ]
  },
  {
   "cell_type": "markdown",
   "metadata": {},
   "source": [
    "### Example 3 \n",
    "* Advanced Use: Strongly Typed Enums"
   ]
  },
  {
   "cell_type": "code",
   "execution_count": 6,
   "metadata": {
    "vscode": {
     "languageId": "cpp"
    }
   },
   "outputs": [],
   "source": [
    "enum class Color { Red, Green, Blue };\n",
    "Color myColor = Color::Green;"
   ]
  },
  {
   "cell_type": "code",
   "execution_count": 7,
   "metadata": {
    "vscode": {
     "languageId": "cpp"
    }
   },
   "outputs": [
    {
     "name": "stdout",
     "output_type": "stream",
     "text": [
      "It's Green\n"
     ]
    }
   ],
   "source": [
    "switch(myColor){\n",
    "    case Color::Red:\n",
    "        std::cout << \"It's Red\" << std::endl;\n",
    "        break;\n",
    "    case Color::Green:\n",
    "        std::cout << \"It's Green\" << std::endl; \n",
    "        break;\n",
    "    case Color::Blue:\n",
    "        std::cout << \"It's Blue\" << std::endl;\n",
    "        break;\n",
    "}"
   ]
  }
 ],
 "metadata": {
  "kernelspec": {
   "display_name": "C++17",
   "language": "C++17",
   "name": "xcpp17"
  },
  "language_info": {
   "codemirror_mode": "text/x-c++src",
   "file_extension": ".cpp",
   "mimetype": "text/x-c++src",
   "name": "c++",
   "version": "17"
  }
 },
 "nbformat": 4,
 "nbformat_minor": 2
}
