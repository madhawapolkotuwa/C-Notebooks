{
 "cells": [
  {
   "cell_type": "code",
   "execution_count": 1,
   "metadata": {
    "vscode": {
     "languageId": "cpp"
    }
   },
   "outputs": [],
   "source": [
    "#include <iostream>"
   ]
  },
  {
   "cell_type": "code",
   "execution_count": null,
   "metadata": {
    "vscode": {
     "languageId": "cpp"
    }
   },
   "outputs": [
    {
     "name": "stdout",
     "output_type": "stream",
     "text": [
      "int_x: 12\n",
      "&int_x: 0x7133b0acc090\n",
      "ref_int_x: 12\n",
      "&ref_int_x: 0x7133b0acc090\n",
      "------------------------------\n",
      "int_x: 20\n",
      "&int_x: 0x7133b0acc090\n",
      "ref_int_x: 20\n",
      "&ref_int_x: 0x7133b0acc090\n",
      "------------------------------\n",
      "int_x: 30\n",
      "&int_x: 0x7133b0acc090\n",
      "ref_int_x: 30\n",
      "&ref_int_x: 0x7133b0acc090\n"
     ]
    }
   ],
   "source": [
    "int int_x = 12;\n",
    "\n",
    "int& ref_int_x = int_x;\n",
    "\n",
    "std::cout << \"int_x: \" << int_x << std::endl;\n",
    "std::cout << \"&int_x: \" << &int_x << std::endl;\n",
    "\n",
    "std::cout << \"ref_int_x: \" << ref_int_x << std::endl;\n",
    "std::cout << \"&ref_int_x: \" << &ref_int_x << std::endl;\n",
    "\n",
    "std::cout << \"------------------------------\" << std::endl;\n",
    "\n",
    "int_x = 20;\n",
    "std::cout << \"int_x: \" << int_x << std::endl;\n",
    "std::cout << \"&int_x: \" << &int_x << std::endl;\n",
    "\n",
    "std::cout << \"ref_int_x: \" << ref_int_x << std::endl;\n",
    "std::cout << \"&ref_int_x: \" << &ref_int_x << std::endl;\n",
    "\n",
    "std::cout << \"------------------------------\" << std::endl;\n",
    "\n",
    "ref_int_x = 30;\n",
    "std::cout << \"int_x: \" << int_x << std::endl;\n",
    "std::cout << \"&int_x: \" << &int_x << std::endl;\n",
    "\n",
    "std::cout << \"ref_int_x: \" << ref_int_x << std::endl;\n",
    "std::cout << \"&ref_int_x: \" << &ref_int_x << std::endl;"
   ]
  },
  {
   "cell_type": "code",
   "execution_count": 8,
   "metadata": {
    "vscode": {
     "languageId": "cpp"
    }
   },
   "outputs": [
    {
     "name": "stdout",
     "output_type": "stream",
     "text": [
      "p_int_x: 0x7133b0acc090\n",
      "*p_int_x: 30\n"
     ]
    }
   ],
   "source": [
    "int* p_int_x = &ref_int_x;\n",
    "std::cout << \"p_int_x: \" << p_int_x << std::endl;\n",
    "std::cout << \"*p_int_x: \" << *p_int_x << std::endl;"
   ]
  },
  {
   "cell_type": "code",
   "execution_count": 10,
   "metadata": {
    "vscode": {
     "languageId": "cpp"
    }
   },
   "outputs": [
    {
     "name": "stdout",
     "output_type": "stream",
     "text": [
      "&double_value: 0x7133b0acc0c8\n",
      "double_value : 12.34\n",
      "ref_double_value : 12.34\n",
      "p_double_value : 0x7133b0acc0c8\n",
      "*p_double_value : 12.34\n"
     ]
    }
   ],
   "source": [
    "double double_value {12.34};\n",
    "double& ref_double_value {double_value}; // Reference to double_value\n",
    "double* p_double_value {&double_value}; // Pointer to double_value\n",
    "\n",
    "//Reading\n",
    "std::cout << \"&double_value: \" << &double_value << std::endl;\n",
    "std::cout << \"double_value : \" << double_value << std::endl;\n",
    "std::cout << \"ref_double_value : \" << ref_double_value << std::endl;\n",
    "std::cout << \"p_double_value : \" << p_double_value << std::endl;\n",
    "std::cout << \"*p_double_value : \" << *p_double_value << std::endl;"
   ]
  },
  {
   "cell_type": "markdown",
   "metadata": {},
   "source": [
    "### References with Range Based For loops\n"
   ]
  },
  {
   "cell_type": "code",
   "execution_count": 13,
   "metadata": {
    "vscode": {
     "languageId": "cpp"
    }
   },
   "outputs": [
    {
     "name": "stdout",
     "output_type": "stream",
     "text": [
      " 1 2 3 4 5 6 7 8 9 10\n",
      " 1 2 3 4 5 6 7 8 9 10\n",
      " 1 2 3 4 5 6 7 8 9 10\n",
      " 10 20 30 40 50 60 70 80 90 100\n"
     ]
    }
   ],
   "source": [
    "int numbers[] {1,2,3,4,5,6,7,8,9,10};\n",
    "\n",
    "for(auto num : numbers){\n",
    "    std::cout << \" \" << num;\n",
    "}\n",
    "\n",
    "std::cout << std::endl;\n",
    "\n",
    "for(auto num : numbers){ // only efect with in the scope,(captured by value)\n",
    "    std::cout << \" \" << num;\n",
    "}\n",
    "std::cout << std::endl;\n",
    "\n",
    "for(auto num : numbers){\n",
    "    std::cout << \" \" << num;\n",
    "}\n",
    "std::cout << std::endl;\n",
    "\n",
    "for(auto& num : numbers){ // effect on outeside of the scope (captured by reference)\n",
    "    num = num * 10;\n",
    "}\n",
    "\n",
    "for(auto num : numbers){\n",
    "    std::cout << \" \" << num;\n",
    "}\n",
    "std::cout << std::endl;\n"
   ]
  }
 ],
 "metadata": {
  "kernelspec": {
   "display_name": "C++17",
   "language": "C++17",
   "name": "xcpp17"
  },
  "language_info": {
   "codemirror_mode": "text/x-c++src",
   "file_extension": ".cpp",
   "mimetype": "text/x-c++src",
   "name": "c++",
   "version": "17"
  }
 },
 "nbformat": 4,
 "nbformat_minor": 2
}
