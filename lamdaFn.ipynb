{
 "cells": [
  {
   "cell_type": "markdown",
   "metadata": {},
   "source": [
    "### Lambda Functions in C++"
   ]
  },
  {
   "cell_type": "code",
   "execution_count": 1,
   "metadata": {
    "vscode": {
     "languageId": "cpp"
    }
   },
   "outputs": [],
   "source": [
    "#include <iostream>"
   ]
  },
  {
   "cell_type": "markdown",
   "metadata": {},
   "source": [
    "Example 1 : Simple Function "
   ]
  },
  {
   "cell_type": "code",
   "execution_count": 6,
   "metadata": {
    "vscode": {
     "languageId": "cpp"
    }
   },
   "outputs": [
    {
     "name": "stdout",
     "output_type": "stream",
     "text": [
      "Hello World!\n"
     ]
    }
   ],
   "source": [
    "auto Hello = [](){\n",
    "    std::cout << \"Hello World!\\n\";\n",
    "};\n",
    "\n",
    "Hello();"
   ]
  },
  {
   "cell_type": "markdown",
   "metadata": {},
   "source": [
    "Example 2 : with return"
   ]
  },
  {
   "cell_type": "code",
   "execution_count": 12,
   "metadata": {
    "vscode": {
     "languageId": "cpp"
    }
   },
   "outputs": [
    {
     "name": "stdout",
     "output_type": "stream",
     "text": [
      "Hello World!!!\n"
     ]
    }
   ],
   "source": [
    "auto HelloString = [](){\n",
    "    return \"Hello World!!!\\n\";\n",
    "};\n",
    "\n",
    "auto result1 = HelloString();\n",
    "std::cout << result1;"
   ]
  },
  {
   "cell_type": "markdown",
   "metadata": {},
   "source": [
    "Example 3 : With inputs"
   ]
  },
  {
   "cell_type": "code",
   "execution_count": 4,
   "metadata": {
    "vscode": {
     "languageId": "cpp"
    }
   },
   "outputs": [
    {
     "name": "stdout",
     "output_type": "stream",
     "text": [
      "a + b : 3.5\n"
     ]
    }
   ],
   "source": [
    "auto Add = [](double a, double b){\n",
    "    return a + b;\n",
    "};\n",
    "\n",
    "auto result2 = Add(1.2,2.3);\n",
    "std::cout << \"a + b : \" << result2 << std::endl;"
   ]
  },
  {
   "cell_type": "markdown",
   "metadata": {},
   "source": [
    "Example 4 : Explicitly specify the return type"
   ]
  },
  {
   "cell_type": "code",
   "execution_count": 5,
   "metadata": {
    "vscode": {
     "languageId": "cpp"
    }
   },
   "outputs": [
    {
     "name": "stdout",
     "output_type": "stream",
     "text": [
      "a + b : 3\n"
     ]
    }
   ],
   "source": [
    "auto Add2 = [](double a, double b)-> int {\n",
    "    return a + b;\n",
    "};\n",
    "auto result3 = Add2(1.2,2.3);\n",
    "std::cout << \"a + b : \" << result3 << std::endl;"
   ]
  },
  {
   "cell_type": "markdown",
   "metadata": {},
   "source": [
    "Example 5 : Capturing by value"
   ]
  },
  {
   "cell_type": "code",
   "execution_count": 12,
   "metadata": {
    "vscode": {
     "languageId": "cpp"
    }
   },
   "outputs": [
    {
     "name": "stderr",
     "output_type": "stream",
     "text": [
      "input_line_21:3:1: warning: captures will be by reference, not copy\n",
      "auto func = [a](){\n",
      "^\n"
     ]
    },
    {
     "name": "stdout",
     "output_type": "stream",
     "text": [
      "func a: 1\t&a : 0x77c9f4651068\n",
      "func a: 1\t&a : 0x77c9f4651068\n"
     ]
    }
   ],
   "source": [
    "int a = 1;\n",
    "\n",
    "auto func = [a](){\n",
    "    std::cout << \"func a: \" << a << \"\\t&a : \" << &a << std::endl;\n",
    "};\n",
    "\n",
    "func();\n",
    "// change the value of a\n",
    "a = 5;\n",
    "func();"
   ]
  },
  {
   "cell_type": "markdown",
   "metadata": {},
   "source": [
    "Example 6: Capturing by reference"
   ]
  },
  {
   "cell_type": "code",
   "execution_count": 15,
   "metadata": {
    "vscode": {
     "languageId": "cpp"
    }
   },
   "outputs": [
    {
     "name": "stdout",
     "output_type": "stream",
     "text": [
      "func2 b: 1\t&b : 0x77c9f4651090\n",
      "func2 b: 5\t&b : 0x77c9f4651090\n",
      "func2 b: 8\t&b : 0x77c9f4651090\n"
     ]
    }
   ],
   "source": [
    "int b = 1;\n",
    "\n",
    "auto func2 = [&b](){\n",
    "    std::cout << \"func2 b: \" << b << \"\\t&b : \" << &b << std::endl;\n",
    "};\n",
    "\n",
    "func2();\n",
    "// change the value of b\n",
    "b = 5;\n",
    "func2();\n",
    "\n",
    "b = 8;\n",
    "func2();"
   ]
  }
 ],
 "metadata": {
  "kernelspec": {
   "display_name": "C++17",
   "language": "C++17",
   "name": "xcpp17"
  },
  "language_info": {
   "codemirror_mode": "text/x-c++src",
   "file_extension": ".cpp",
   "mimetype": "text/x-c++src",
   "name": "C++17",
   "version": "17"
  }
 },
 "nbformat": 4,
 "nbformat_minor": 2
}
