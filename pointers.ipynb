{
 "cells": [
  {
   "cell_type": "code",
   "execution_count": 1,
   "metadata": {
    "vscode": {
     "languageId": "cpp"
    }
   },
   "outputs": [],
   "source": [
    "#include <iostream>"
   ]
  },
  {
   "cell_type": "markdown",
   "metadata": {},
   "source": [
    "### Basic Pointer Declaration and Assignment:"
   ]
  },
  {
   "cell_type": "code",
   "execution_count": 5,
   "metadata": {
    "vscode": {
     "languageId": "cpp"
    }
   },
   "outputs": [
    {
     "name": "stdout",
     "output_type": "stream",
     "text": [
      "Int var : 10\n",
      "p_int (Address in memory): 0x717d8b651050\n"
     ]
    }
   ],
   "source": [
    "int int_var = 10;\n",
    "int *p_int = &int_var;\n",
    "\n",
    "std::cout << \"Int var : \" << int_var << std::endl;\n",
    "std::cout << \"p_int (Address in memory): \"<< p_int << std::endl;"
   ]
  },
  {
   "cell_type": "markdown",
   "metadata": {},
   "source": [
    "Here, `int_var` is a simple integer variable set to 10.  \n",
    "The pointer `p_int` is then assigned the memory address \n",
    "of `int_var` using the *`&`* (address-of) operator.  \n",
    "The value of `p_int` is the memory address where `int_var` is stored.\n",
    "\n",
    "* `int_var` prints the value 10.\n",
    "* `p_int` prints the address in memory where `int_var` is stored."
   ]
  },
  {
   "cell_type": "markdown",
   "metadata": {},
   "source": [
    "### Reassigning a Pointer to Another Variable’s Address:"
   ]
  },
  {
   "cell_type": "code",
   "execution_count": 10,
   "metadata": {
    "vscode": {
     "languageId": "cpp"
    }
   },
   "outputs": [
    {
     "name": "stdout",
     "output_type": "stream",
     "text": [
      "p_int (with diffrent menory address): 0x717d8b651068\n",
      "*p_int (value in the memory) Dereferencing : 15\n"
     ]
    }
   ],
   "source": [
    "int int_var1 = 15;\n",
    "p_int = &int_var1;\n",
    "std::cout << \"p_int (with diffrent menory address): \" << p_int << std::endl;\n",
    "std::cout << \"*p_int (value in the memory) Dereferencing : \" << *p_int << std::endl;"
   ]
  },
  {
   "cell_type": "markdown",
   "metadata": {},
   "source": [
    "Here, `p_int` is reassigned to hold the memory address of `int_var1`,  \n",
    "a new integer with a value of 15.  \n",
    "Reassigning `p_int` changes the address  \n",
    "it points to without affecting the original address it held.\n",
    "\n",
    "* `p_int` now holds the address of `int_var1`.\n",
    "* Using `*p_int` (dereferencing the pointer)  \n",
    "  retrieves the value stored at the new address, which is 15."
   ]
  },
  {
   "cell_type": "markdown",
   "metadata": {},
   "source": [
    "### Pointers to Character Data:"
   ]
  },
  {
   "cell_type": "code",
   "execution_count": 11,
   "metadata": {
    "vscode": {
     "languageId": "cpp"
    }
   },
   "outputs": [
    {
     "name": "stdout",
     "output_type": "stream",
     "text": [
      "message : Hello world\n"
     ]
    }
   ],
   "source": [
    "const char* message = \"Hello world\";\n",
    "std::cout << \"message : \" << message << std::endl;"
   ]
  },
  {
   "cell_type": "markdown",
   "metadata": {},
   "source": [
    "Here, `message` is a pointer to a *constant character array* (`const char*`),  \n",
    "which **points to the first character of the string** \"`Hello world`\".  \n",
    "Since it's a pointer, message holds the memory address of the first character,  \n",
    "while dereferencing it will yield individual characters.  \n",
    "\n",
    "* Printing message directly displays the entire string,  \n",
    "  as `std::cout` interprets it as a null-terminated character array (C-style string)."
   ]
  },
  {
   "cell_type": "code",
   "execution_count": null,
   "metadata": {
    "vscode": {
     "languageId": "cpp"
    }
   },
   "outputs": [
    {
     "name": "stdout",
     "output_type": "stream",
     "text": [
      "*message : H\n"
     ]
    }
   ],
   "source": [
    "std::cout << \"*message : \" << *message << std::endl;"
   ]
  },
  {
   "cell_type": "markdown",
   "metadata": {},
   "source": [
    "* Using *message retrieves only the  \n",
    "  first character of the string, which is 'H'."
   ]
  },
  {
   "cell_type": "markdown",
   "metadata": {},
   "source": [
    "### Array Of Pointer To Char"
   ]
  },
  {
   "cell_type": "code",
   "execution_count": 15,
   "metadata": {
    "vscode": {
     "languageId": "cpp"
    }
   },
   "outputs": [
    {
     "name": "stdout",
     "output_type": "stream",
     "text": [
      "Error_messages[0] : An unexpected error has occurred. The program will now close.\n",
      "Error_messages[3] : A runtime error has occurred. Do you wish to debug?\n"
     ]
    }
   ],
   "source": [
    "const char* Error_messages [] {\n",
    "    \"An unexpected error has occurred. The program will now close.\",\n",
    "    \"The file you are trying to access cannot be found. Please check the file name and try again.\",\n",
    "    \"The system has run out of memory. Please close some programs and try again.\",\n",
    "    \"A runtime error has occurred. Do you wish to debug?\",\n",
    "    \"The application has unexpectedly quit. Would you like to send a report?\"\n",
    "};\n",
    "\n",
    "std::cout << \"Error_messages[0] : \" << Error_messages[0] << std::endl;\n",
    "std::cout << \"Error_messages[3] : \" << Error_messages[3] << std::endl;"
   ]
  },
  {
   "cell_type": "markdown",
   "metadata": {},
   "source": [
    "### Const Pointers\n",
    "\n",
    "A constant pointer, declared as `int * const p_number1`,  \n",
    "means the pointer’s address cannot be changed after initialization.  \n",
    "However, the value at that address can still be modified.  \n",
    "Here’s a breakdown of how this works:"
   ]
  },
  {
   "cell_type": "code",
   "execution_count": 19,
   "metadata": {
    "vscode": {
     "languageId": "cpp"
    }
   },
   "outputs": [
    {
     "name": "stdout",
     "output_type": "stream",
     "text": [
      "p_number1: 0x717d8b651158\n",
      "*p_number1: 10\n",
      "number1: 10\n",
      "----------------------------------\n",
      "p_number1: 0x717d8b651158\n",
      "*p_number1: 20\n",
      "number1: 20\n"
     ]
    },
    {
     "data": {
      "text/plain": [
       "@0x717d847fcd20"
      ]
     },
     "execution_count": 19,
     "metadata": {},
     "output_type": "execute_result"
    }
   ],
   "source": [
    "int number1 = 10;\n",
    "int * const p_number1 = &number1;\n",
    "\n",
    "std::cout << \"p_number1: \" << p_number1 << std::endl;\n",
    "std::cout << \"*p_number1: \" << *p_number1 << std::endl;\n",
    "std::cout << \"number1: \" << number1 << std::endl; \n",
    "\n",
    "std::cout << \"----------------------------------\" << std::endl;\n",
    "\n",
    "int number2 = 20;\n",
    "// p_number1 = &number2; // compile error Can not change the address of the constant pointer\n",
    "\n",
    "*p_number1 = number2; // can change the value inside the memory address.\n",
    "std::cout << \"p_number1: \" << p_number1 << std::endl;\n",
    "std::cout << \"*p_number1: \" << *p_number1 << std::endl;\n",
    "std::cout << \"number1: \" << number1 << std::endl; \n",
    "\n"
   ]
  },
  {
   "cell_type": "markdown",
   "metadata": {},
   "source": [
    "* `p_number1` is a pointer to `int` that’s declared as constant (const),  \n",
    "  meaning it must always point to the same memory address it was initialized with,  \n",
    "  which is the address of `number1`.\n",
    "* The initial value at `*p_number1` is 10, as it points to `number1`.\n",
    "* Attempting to reassign `p_number1` to the address of  \n",
    "  `number2` results in a compile-time error because `p_number1`  \n",
    "  is a constant pointer, and its address cannot be  \n",
    "  modified after its initial assignment.\n",
    "* Although we can’t change the address of `p_number1`,  \n",
    "  we can modify the value stored at that address.\n",
    "* Here, `*p_number1 = number2` sets the value of  \n",
    "  `number1` (the memory location `p_number1` points to) to 20.\n"
   ]
  },
  {
   "cell_type": "markdown",
   "metadata": {},
   "source": [
    "### Pointers and Arrays"
   ]
  },
  {
   "cell_type": "markdown",
   "metadata": {},
   "source": [
    "Arrays in C++ inherently behave like pointers in many respects,  \n",
    "especially when referring to their memory addresses.  \n",
    "Let’s explore this behavior in detail:"
   ]
  },
  {
   "cell_type": "code",
   "execution_count": null,
   "metadata": {
    "vscode": {
     "languageId": "cpp"
    }
   },
   "outputs": [
    {
     "name": "stdout",
     "output_type": "stream",
     "text": [
      "numbers: 0x78bdf2aad0c0\n",
      "p_numbers: 0x78bdf2aad0c0\n",
      "&numbers[0]: 0x78bdf2aad0c0\n",
      "--------------------------------------\n",
      "*numbers: 1\n",
      "numbers[0]: 1\n",
      "*p_numbers: 1\n",
      "p_numbers[0]: 1\n"
     ]
    }
   ],
   "source": [
    "int numbers[10] {1,2,3,4,5,6,7,8,9,10};\n",
    "\n",
    "int* p_numbers = numbers; // not &numbers {arrays naturally decay to pointers}\n",
    "\n",
    "std::cout << \"numbers: \" << numbers << std::endl; // first memory address of the arry elements\n",
    "std::cout << \"p_numbers: \" << p_numbers << std::endl; // same as above\n",
    "std::cout << \"&numbers[0]: \" << &numbers[0] << std::endl;  // all are same\n",
    "\n",
    "std::cout << \"--------------------------------------\" << std::endl;\n",
    "\n",
    "std::cout << \"*numbers: \" << *numbers << std::endl; // first element of the array\n",
    "std::cout << \"numbers[0]: \" << numbers[0] << std::endl;\n",
    "std::cout << \"*p_numbers: \" << *p_numbers<< std::endl;\n",
    "std::cout << \"p_numbers[0]: \" << p_numbers[0] << std::endl;\n",
    "\n",
    "// Array's default behavior is also the like pointers\n"
   ]
  },
  {
   "cell_type": "markdown",
   "metadata": {},
   "source": [
    "* numbers is an array of 10 integers,  \n",
    "  initialized with values from 1 to 10.\n",
    "* When assigning `p_numbers = numbers`,  \n",
    "  `p_numbers` points to the first element of numbers.  \n",
    "  Here, we don’t use the `&` operator because arrays naturally  \n",
    "  decay to pointers when passed as references.  \n",
    "  In other words, numbers by itself refers to  \n",
    "  the memory address of the first element in the array.\n",
    "* `numbers`, `p_numbers`, and `&numbers[0]`  \n",
    "  all display the same memory address,  \n",
    "  showing the base address of the array.\n",
    "* `*numbers` and `numbers[0]` both return 1,  \n",
    "  the value at the first element.  \n",
    "  This is because `*numbers` dereferences  \n",
    "  the array’s base address, equivalent to `numbers[0]`.\n",
    "\n",
    "* In C++, the name of an array (numbers) \n",
    "  decays to a pointer pointing to the first element in the array.\n",
    "\n",
    "* While arrays and pointers behave similarly,  \n",
    "  they are not identical: arrays have a fixed size,  \n",
    "  while pointers can be reassigned to point to  \n",
    "  different memory locations.  \n",
    "  However, they share a close relationship in memory management and value access."
   ]
  },
  {
   "cell_type": "code",
   "execution_count": null,
   "metadata": {
    "vscode": {
     "languageId": "cpp"
    }
   },
   "outputs": [
    {
     "name": "stdout",
     "output_type": "stream",
     "text": [
      "3\n",
      "4\n"
     ]
    }
   ],
   "source": [
    "int* p_numbers2 = numbers + 2 ; // {1+2, 2+2, 3+2 .....}\n",
    "std::cout << p_numbers2[0] << std::endl;\n",
    "std::cout << p_numbers2[1] << std::endl;"
   ]
  },
  {
   "cell_type": "markdown",
   "metadata": {},
   "source": [
    "### Dynamic Memory Allocation"
   ]
  },
  {
   "cell_type": "code",
   "execution_count": 7,
   "metadata": {
    "vscode": {
     "languageId": "cpp"
    }
   },
   "outputs": [
    {
     "name": "stdout",
     "output_type": "stream",
     "text": [
      "p_x: 0x648506b878b0\n",
      "*p_x: 1079832199\n",
      "p_y: 0x6485080c8500\n",
      "*p_y: 12\n",
      "p_z: 0x648506a3d7c0\n",
      "*p_z: 12\n",
      "p_x: 0x648506b878b0\n",
      "*p_x: 2\n"
     ]
    }
   ],
   "source": [
    "int *p_x = new int; // Memory location contains junk value\n",
    "int *p_y = new int(12); // use direct initialization\n",
    "int *p_z = new int{ 12 }; // use uniform initialization\n",
    "\n",
    "std::cout << \"p_x: \" << p_x << std::endl;\n",
    "std::cout << \"*p_x: \" << *p_x << std::endl;\n",
    "\n",
    "std::cout << \"p_y: \" << p_y << std::endl;\n",
    "std::cout << \"*p_y: \" << *p_y << std::endl;\n",
    "\n",
    "std::cout << \"p_z: \" << p_z << std::endl;\n",
    "std::cout << \"*p_z: \" << *p_z << std::endl;\n",
    "\n",
    "*p_x = 2;\n",
    "std::cout << \"p_x: \" << p_x << std::endl;\n",
    "std::cout << \"*p_x: \" << *p_x << std::endl;"
   ]
  }
 ],
 "metadata": {
  "kernelspec": {
   "display_name": "C++17",
   "language": "C++17",
   "name": "xcpp17"
  },
  "language_info": {
   "codemirror_mode": "text/x-c++src",
   "file_extension": ".cpp",
   "mimetype": "text/x-c++src",
   "name": "c++",
   "version": "17"
  }
 },
 "nbformat": 4,
 "nbformat_minor": 2
}
