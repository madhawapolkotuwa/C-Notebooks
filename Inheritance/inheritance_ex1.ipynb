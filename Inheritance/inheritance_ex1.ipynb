{
 "cells": [
  {
   "cell_type": "markdown",
   "metadata": {},
   "source": [
    "### class inheritance c++"
   ]
  },
  {
   "cell_type": "code",
   "execution_count": 14,
   "metadata": {
    "vscode": {
     "languageId": "cpp"
    }
   },
   "outputs": [],
   "source": [
    "#include <iostream>"
   ]
  },
  {
   "cell_type": "code",
   "execution_count": 15,
   "metadata": {
    "vscode": {
     "languageId": "cpp"
    }
   },
   "outputs": [],
   "source": [
    "class Product {\n",
    "\n",
    "    public:\n",
    "        int id{};\n",
    "        double price{};\n",
    "        std::string category{};\n",
    "\n",
    "        void ProductId(){\n",
    "            std::cout << \"Product ID: \" << id << std::endl;\n",
    "        }\n",
    "\n",
    "        void ProductCategory(){\n",
    "            std::cout << \"Product Category: \" << category << std::endl;\n",
    "        }\n",
    "}"
   ]
  },
  {
   "cell_type": "code",
   "execution_count": 16,
   "metadata": {
    "vscode": {
     "languageId": "cpp"
    }
   },
   "outputs": [],
   "source": [
    "class Laptop : public Product {\n",
    "\n",
    "    public:\n",
    "\n",
    "        std::string name{};\n",
    "\n",
    "        Laptop(int id, double price, std::string name){\n",
    "            this->id = id;\n",
    "            this->price = price;\n",
    "            this->category = \"Laptop\";\n",
    "            this->name = name;\n",
    "        }\n",
    "\n",
    "        void LaptopDetails(){\n",
    "            std::cout << \"Name : \" << name << \"  Price: \" << price << std::endl;\n",
    "        }\n",
    "\n",
    "}"
   ]
  },
  {
   "cell_type": "code",
   "execution_count": 17,
   "metadata": {
    "vscode": {
     "languageId": "cpp"
    }
   },
   "outputs": [],
   "source": [
    "class Phone : public Product {\n",
    "\n",
    "    public:\n",
    "        std::string name{};\n",
    "        std::string os{};\n",
    "\n",
    "        Phone(int id, double price, std::string name, std::string os ){\n",
    "            this->id = id;\n",
    "            this->price = price;\n",
    "            this->category = \"Phone\";\n",
    "            this->name = name;\n",
    "            this->os = os;\n",
    "        }\n",
    "\n",
    "        void PhoneDetails(){\n",
    "            std::cout << \"Name : \" << name << \"  OS: \" << os << \"  Price: \" << price << std::endl;\n",
    "        }\n",
    "}"
   ]
  },
  {
   "cell_type": "code",
   "execution_count": 18,
   "metadata": {
    "vscode": {
     "languageId": "cpp"
    }
   },
   "outputs": [
    {
     "name": "stdout",
     "output_type": "stream",
     "text": [
      "Name : Samsung S22  OS: Android  Price: 1120\n",
      "Product ID: 112\n",
      "Product Category: Phone\n"
     ]
    }
   ],
   "source": [
    "Phone samsungS22 = Phone(112,1120.00,\"Samsung S22\", \"Android\");\n",
    "samsungS22.PhoneDetails();\n",
    "samsungS22.ProductId();\n",
    "samsungS22.ProductCategory();"
   ]
  },
  {
   "cell_type": "code",
   "execution_count": 19,
   "metadata": {
    "vscode": {
     "languageId": "cpp"
    }
   },
   "outputs": [
    {
     "name": "stdout",
     "output_type": "stream",
     "text": [
      "Name : Lenovo Slim 170  Price: 499.99\n",
      "Product ID: 254\n",
      "Product Category: Laptop\n"
     ]
    }
   ],
   "source": [
    "Laptop lenovoS170 = Laptop(254, 499.99, \"Lenovo Slim 170\");\n",
    "lenovoS170.LaptopDetails();\n",
    "lenovoS170.ProductId();\n",
    "lenovoS170.ProductCategory();"
   ]
  }
 ],
 "metadata": {
  "kernelspec": {
   "display_name": "C++17",
   "language": "C++17",
   "name": "xcpp17"
  },
  "language_info": {
   "codemirror_mode": "text/x-c++src",
   "file_extension": ".cpp",
   "mimetype": "text/x-c++src",
   "name": "c++",
   "version": "17"
  }
 },
 "nbformat": 4,
 "nbformat_minor": 2
}
