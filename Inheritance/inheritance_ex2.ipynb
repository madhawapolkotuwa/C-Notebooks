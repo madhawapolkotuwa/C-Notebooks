{
 "cells": [
  {
   "cell_type": "code",
   "execution_count": 1,
   "metadata": {
    "vscode": {
     "languageId": "cpp"
    }
   },
   "outputs": [],
   "source": [
    "#include <iostream>"
   ]
  },
  {
   "cell_type": "markdown",
   "metadata": {},
   "source": [
    "### C++ Inheritance"
   ]
  },
  {
   "cell_type": "code",
   "execution_count": 13,
   "metadata": {
    "vscode": {
     "languageId": "cpp"
    }
   },
   "outputs": [],
   "source": [
    "class Animal{\n",
    "\n",
    "protected:\n",
    "    std::string name;\n",
    "\n",
    "public:\n",
    "    void speak(){\n",
    "        std::cout << name <<\" speaks.\" << std::endl;\n",
    "    }\n",
    "\n",
    "    void setName(const std::string& n){\n",
    "        name = n;\n",
    "        set();\n",
    "    }\n",
    "\n",
    "private:\n",
    "    void set(){\n",
    "        std::cout << \"New animal\" << std::endl;\n",
    "    }\n",
    "\n",
    "}"
   ]
  },
  {
   "cell_type": "markdown",
   "metadata": {},
   "source": [
    "* Dog class inherits from Animal"
   ]
  },
  {
   "cell_type": "code",
   "execution_count": 14,
   "metadata": {
    "vscode": {
     "languageId": "cpp"
    }
   },
   "outputs": [],
   "source": [
    "class Dog : public Animal {\n",
    "public:\n",
    "    \n",
    "    Dog(std::string name){\n",
    "        // this->name = name; error name is protected in Animal cann't directly change values\n",
    "        setName(name);\n",
    "    }\n",
    "\n",
    "    void bark() {\n",
    "        std::cout << \"Dog \" << name << \" barks: Woof!\" << std::endl; // but name can directly access values\n",
    "    }\n",
    "}"
   ]
  },
  {
   "cell_type": "code",
   "execution_count": null,
   "metadata": {
    "vscode": {
     "languageId": "cpp"
    }
   },
   "outputs": [
    {
     "name": "stdout",
     "output_type": "stream",
     "text": [
      "New animal\n",
      "Dog Tommy barks: Woof!\n",
      "Tommy speaks.\n"
     ]
    }
   ],
   "source": [
    "Dog myDog = Dog(\"Tommy\");\n",
    "myDog.bark();\n",
    "myDog.speak();\n",
    "// myDog.set(); // error This is private to Animal"
   ]
  },
  {
   "cell_type": "markdown",
   "metadata": {},
   "source": [
    "* Multiple Inheritance"
   ]
  },
  {
   "cell_type": "code",
   "execution_count": 17,
   "metadata": {
    "vscode": {
     "languageId": "cpp"
    }
   },
   "outputs": [],
   "source": [
    "class Mammal {\n",
    "public:\n",
    "    void feedMilk() {\n",
    "        std::cout << \"Feeds milk.\" << std::endl;\n",
    "    }\n",
    "};"
   ]
  },
  {
   "cell_type": "code",
   "execution_count": 18,
   "metadata": {
    "vscode": {
     "languageId": "cpp"
    }
   },
   "outputs": [],
   "source": [
    "class Bird {\n",
    "public:\n",
    "    void layEggs() {\n",
    "        std::cout << \"Lays eggs.\" << std::endl;\n",
    "    }\n",
    "};"
   ]
  },
  {
   "cell_type": "code",
   "execution_count": 19,
   "metadata": {
    "vscode": {
     "languageId": "cpp"
    }
   },
   "outputs": [],
   "source": [
    "class Platypus : public Mammal, public Bird {\n",
    "public:\n",
    "    void specialAbility() {\n",
    "        std::cout << \"Can do both!\" << std::endl;\n",
    "    }\n",
    "};"
   ]
  },
  {
   "cell_type": "code",
   "execution_count": 20,
   "metadata": {
    "vscode": {
     "languageId": "cpp"
    }
   },
   "outputs": [
    {
     "name": "stdout",
     "output_type": "stream",
     "text": [
      "Feeds milk.\n",
      "Lays eggs.\n",
      "Can do both!\n"
     ]
    }
   ],
   "source": [
    "Platypus perry;\n",
    "perry.feedMilk();   // Inherited from Mammal\n",
    "perry.layEggs();    // Inherited from Bird\n",
    "perry.specialAbility(); // Defined in Platypus"
   ]
  },
  {
   "cell_type": "markdown",
   "metadata": {},
   "source": [
    "* Virtual Inheritance"
   ]
  },
  {
   "cell_type": "code",
   "execution_count": 21,
   "metadata": {
    "vscode": {
     "languageId": "cpp"
    }
   },
   "outputs": [],
   "source": [
    "class Device {\n",
    "public:\n",
    "    void powerOn() {\n",
    "        std::cout << \"Device is powering on.\" << std::endl;\n",
    "    }\n",
    "};\n",
    "\n",
    "class Computer : virtual public Device {};\n",
    "class Phone : virtual public Device {};"
   ]
  },
  {
   "cell_type": "code",
   "execution_count": 23,
   "metadata": {
    "vscode": {
     "languageId": "cpp"
    }
   },
   "outputs": [],
   "source": [
    "class SmartPhone : public Computer, public Phone {\n",
    "public:\n",
    "    void useApp() {\n",
    "        std::cout << \"Using an app on the smartphone.\" << std::endl;\n",
    "    }\n",
    "};"
   ]
  },
  {
   "cell_type": "code",
   "execution_count": 24,
   "metadata": {
    "vscode": {
     "languageId": "cpp"
    }
   },
   "outputs": [
    {
     "name": "stdout",
     "output_type": "stream",
     "text": [
      "Device is powering on.\n",
      "Using an app on the smartphone.\n"
     ]
    }
   ],
   "source": [
    "SmartPhone myPhone;\n",
    "myPhone.powerOn(); // No ambiguity due to virtual inheritance\n",
    "myPhone.useApp();"
   ]
  }
 ],
 "metadata": {
  "kernelspec": {
   "display_name": "C++17",
   "language": "C++17",
   "name": "xcpp17"
  },
  "language_info": {
   "codemirror_mode": "text/x-c++src",
   "file_extension": ".cpp",
   "mimetype": "text/x-c++src",
   "name": "c++",
   "version": "17"
  }
 },
 "nbformat": 4,
 "nbformat_minor": 2
}
