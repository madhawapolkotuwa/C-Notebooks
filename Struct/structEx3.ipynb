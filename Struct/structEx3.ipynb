{
 "cells": [
  {
   "cell_type": "code",
   "execution_count": 1,
   "metadata": {
    "vscode": {
     "languageId": "cpp"
    }
   },
   "outputs": [],
   "source": [
    "#include <iostream>\n",
    "#include <string>"
   ]
  },
  {
   "cell_type": "markdown",
   "metadata": {},
   "source": [
    "* Example 3: Constructor in Structs"
   ]
  },
  {
   "cell_type": "code",
   "execution_count": 2,
   "metadata": {
    "vscode": {
     "languageId": "cpp"
    }
   },
   "outputs": [],
   "source": [
    "struct Product {\n",
    "    std::string name;\n",
    "    std::string category;\n",
    "    double price;\n",
    "    int stock;\n",
    "\n",
    "    // Constructor\n",
    "    Product(std::string n, std::string c, double p, int s)\n",
    "        : name(n), category(c), price(p), stock(s) {}\n",
    "\n",
    "    void displayProduct() const {\n",
    "        std::cout << \"Product: \" << name << \"\\nCategory: \" << category\n",
    "                  << \"\\nPrice: $\" << price << \"\\nStock: \" << stock << std::endl;\n",
    "    }\n",
    "};"
   ]
  },
  {
   "cell_type": "code",
   "execution_count": 3,
   "metadata": {
    "vscode": {
     "languageId": "cpp"
    }
   },
   "outputs": [
    {
     "name": "stdout",
     "output_type": "stream",
     "text": [
      "Product: MacBook Air\n",
      "Category: Laptop\n",
      "Price: $1500\n",
      "Stock: 5\n"
     ]
    }
   ],
   "source": [
    "// Example usage\n",
    "Product p2{\"MacBook Air\", \"Laptop\", 1500.00, 5};\n",
    "p2.displayProduct();"
   ]
  }
 ],
 "metadata": {
  "kernelspec": {
   "display_name": "C++17",
   "language": "C++17",
   "name": "xcpp17"
  },
  "language_info": {
   "codemirror_mode": "text/x-c++src",
   "file_extension": ".cpp",
   "mimetype": "text/x-c++src",
   "name": "c++",
   "version": "17"
  }
 },
 "nbformat": 4,
 "nbformat_minor": 2
}
