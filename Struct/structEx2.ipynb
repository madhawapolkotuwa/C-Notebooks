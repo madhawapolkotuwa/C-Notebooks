{
 "cells": [
  {
   "cell_type": "code",
   "execution_count": 1,
   "metadata": {
    "vscode": {
     "languageId": "cpp"
    }
   },
   "outputs": [],
   "source": [
    "#include <iostream>\n",
    "#include <string>"
   ]
  },
  {
   "cell_type": "markdown",
   "metadata": {},
   "source": [
    "* **Example 2 : Adding Member Functions to Structs**"
   ]
  },
  {
   "cell_type": "code",
   "execution_count": 2,
   "metadata": {
    "vscode": {
     "languageId": "cpp"
    }
   },
   "outputs": [],
   "source": [
    "struct Product {\n",
    "    std::string name;\n",
    "    std::string category;\n",
    "    double price;\n",
    "    int stock;\n",
    "\n",
    "    // Member function to display product details\n",
    "    void displayProduct() const {\n",
    "        std::cout << \"Product: \" << name << \"\\nCategory: \" << category\n",
    "                  << \"\\nPrice: $\" << price << \"\\nStock: \" << stock << std::endl;\n",
    "    }\n",
    "\n",
    "    // Member function to update stock\n",
    "    void updateStock(int newStock) {\n",
    "        stock = newStock;\n",
    "        std::cout << \"Updated stock to: \" << stock << std::endl;\n",
    "    }\n",
    "};"
   ]
  },
  {
   "cell_type": "code",
   "execution_count": 3,
   "metadata": {
    "vscode": {
     "languageId": "cpp"
    }
   },
   "outputs": [
    {
     "name": "stdout",
     "output_type": "stream",
     "text": [
      "Product: Iphone16\n",
      "Category: Smart Phone\n",
      "Price: $1220\n",
      "Stock: 12\n",
      "Updated stock to: 3\n"
     ]
    }
   ],
   "source": [
    "// Example usage\n",
    "Product p1{\"Iphone16\", \"Smart Phone\", 1220.00, 12};\n",
    "p1.displayProduct();\n",
    "p1.updateStock(3);"
   ]
  },
  {
   "cell_type": "markdown",
   "metadata": {},
   "source": [
    "* `Array of Structs`"
   ]
  },
  {
   "cell_type": "code",
   "execution_count": 4,
   "metadata": {
    "vscode": {
     "languageId": "cpp"
    }
   },
   "outputs": [
    {
     "name": "stdout",
     "output_type": "stream",
     "text": [
      "Product: Iphone16\n",
      "Category: Smart Phone\n",
      "Price: $1220\n",
      "Stock: 12\n",
      "------------------\n",
      "Product: MacBook Air\n",
      "Category: Laptop\n",
      "Price: $1500\n",
      "Stock: 5\n",
      "------------------\n",
      "Product: Tablet\n",
      "Category: Electronics\n",
      "Price: $600\n",
      "Stock: 10\n",
      "------------------\n"
     ]
    }
   ],
   "source": [
    "Product products[] = {\n",
    "    {\"Iphone16\", \"Smart Phone\", 1220.00, 12},\n",
    "    {\"MacBook Air\", \"Laptop\", 1500.00, 5},\n",
    "    {\"Tablet\", \"Electronics\", 600.00, 10}\n",
    "};\n",
    "\n",
    "for(const auto& product : products) {\n",
    "    product.displayProduct();\n",
    "    std::cout << \"------------------\" << std::endl;\n",
    "}"
   ]
  },
  {
   "cell_type": "markdown",
   "metadata": {},
   "source": [
    "* `Using Structs with STL Containers`"
   ]
  },
  {
   "cell_type": "code",
   "execution_count": 5,
   "metadata": {
    "vscode": {
     "languageId": "cpp"
    }
   },
   "outputs": [
    {
     "name": "stdout",
     "output_type": "stream",
     "text": [
      "Product: Iphone16\n",
      "Category: Smart Phone\n",
      "Price: $1220\n",
      "Stock: 12\n",
      "------------------\n",
      "Product: MacBook Air\n",
      "Category: Laptop\n",
      "Price: $1500\n",
      "Stock: 5\n",
      "------------------\n",
      "Product: Tablet\n",
      "Category: Electronics\n",
      "Price: $600\n",
      "Stock: 10\n",
      "------------------\n"
     ]
    }
   ],
   "source": [
    "#include <vector>\n",
    "\n",
    "std::vector<Product> inventory = {\n",
    "    {\"Iphone16\", \"Smart Phone\", 1220.00, 12},\n",
    "    {\"MacBook Air\", \"Laptop\", 1500.00, 5},\n",
    "    {\"Tablet\", \"Electronics\", 600.00, 10}\n",
    "};\n",
    "\n",
    "for (const auto& item : inventory) {\n",
    "    item.displayProduct();\n",
    "    std::cout << \"------------------\" << std::endl;\n",
    "}"
   ]
  }
 ],
 "metadata": {
  "kernelspec": {
   "display_name": "C++17",
   "language": "C++17",
   "name": "xcpp17"
  },
  "language_info": {
   "codemirror_mode": "text/x-c++src",
   "file_extension": ".cpp",
   "mimetype": "text/x-c++src",
   "name": "c++",
   "version": "17"
  }
 },
 "nbformat": 4,
 "nbformat_minor": 2
}
