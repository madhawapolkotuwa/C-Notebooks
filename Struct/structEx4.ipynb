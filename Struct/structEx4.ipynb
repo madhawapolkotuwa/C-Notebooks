{
 "cells": [
  {
   "cell_type": "code",
   "execution_count": 1,
   "metadata": {
    "vscode": {
     "languageId": "cpp"
    }
   },
   "outputs": [],
   "source": [
    "#include <iostream>\n",
    "#include <string>"
   ]
  },
  {
   "cell_type": "markdown",
   "metadata": {},
   "source": [
    "* Example 4: Struct with Nested Structs\n"
   ]
  },
  {
   "cell_type": "code",
   "execution_count": 2,
   "metadata": {
    "vscode": {
     "languageId": "cpp"
    }
   },
   "outputs": [],
   "source": [
    "struct Dimensions {\n",
    "    double length;\n",
    "    double width;\n",
    "    double height;\n",
    "};\n",
    "\n",
    "struct Product {\n",
    "    std::string name;\n",
    "    std::string category;\n",
    "    double price;\n",
    "    int stock;\n",
    "    Dimensions size; // Nested struct\n",
    "\n",
    "    void displayProduct() const {\n",
    "        std::cout << \"Product: \" << name << \"\\nCategory: \" << category\n",
    "                  << \"\\nPrice: $\" << price << \"\\nStock: \" << stock\n",
    "                  << \"\\nDimensions (L x W x H): \" << size.length\n",
    "                  << \" x \" << size.width << \" x \" << size.height << std::endl;\n",
    "    }\n",
    "};"
   ]
  },
  {
   "cell_type": "code",
   "execution_count": 3,
   "metadata": {
    "vscode": {
     "languageId": "cpp"
    }
   },
   "outputs": [
    {
     "name": "stdout",
     "output_type": "stream",
     "text": [
      "Product: Tablet\n",
      "Category: Electronics\n",
      "Price: $600\n",
      "Stock: 10\n",
      "Dimensions (L x W x H): 10.2 x 6.1 x 0.3\n"
     ]
    }
   ],
   "source": [
    "// Example usage\n",
    "Product p3{\"Tablet\", \"Electronics\", 600.00, 10, {10.2, 6.1, 0.3}};\n",
    "p3.displayProduct();"
   ]
  }
 ],
 "metadata": {
  "kernelspec": {
   "display_name": "C++17",
   "language": "C++17",
   "name": "xcpp17"
  },
  "language_info": {
   "codemirror_mode": "text/x-c++src",
   "file_extension": ".cpp",
   "mimetype": "text/x-c++src",
   "name": "c++",
   "version": "17"
  }
 },
 "nbformat": 4,
 "nbformat_minor": 2
}
