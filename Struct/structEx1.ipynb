{
 "cells": [
  {
   "cell_type": "markdown",
   "metadata": {},
   "source": [
    "### Struct in C++"
   ]
  },
  {
   "cell_type": "code",
   "execution_count": 12,
   "metadata": {
    "vscode": {
     "languageId": "cpp"
    }
   },
   "outputs": [],
   "source": [
    "#include <iostream>"
   ]
  },
  {
   "cell_type": "markdown",
   "metadata": {},
   "source": [
    "* Example 1: A Simple Struct"
   ]
  },
  {
   "cell_type": "code",
   "execution_count": 13,
   "metadata": {
    "vscode": {
     "languageId": "cpp"
    }
   },
   "outputs": [],
   "source": [
    "struct Product{\n",
    "    std::string name;\n",
    "    std::string category;\n",
    "    double price;\n",
    "    int stoke;\n",
    "};"
   ]
  },
  {
   "cell_type": "code",
   "execution_count": 14,
   "metadata": {
    "vscode": {
     "languageId": "cpp"
    }
   },
   "outputs": [],
   "source": [
    "void SetStoke(Product& p, int stoke){\n",
    "    p.stoke = stoke;\n",
    "};"
   ]
  },
  {
   "cell_type": "code",
   "execution_count": 15,
   "metadata": {
    "vscode": {
     "languageId": "cpp"
    }
   },
   "outputs": [
    {
     "name": "stdout",
     "output_type": "stream",
     "text": [
      "p1 Name: Iphone16\n"
     ]
    }
   ],
   "source": [
    "Product p1;\n",
    "p1.name = \"Iphone16\";\n",
    "p1.category = \"Smart Phone\";\n",
    "p1.price = 1220.00;\n",
    "p1.stoke = 12;\n",
    "\n",
    "std::cout << \"p1 Name: \" << p1.name << std::endl;"
   ]
  },
  {
   "cell_type": "code",
   "execution_count": 16,
   "metadata": {
    "vscode": {
     "languageId": "cpp"
    }
   },
   "outputs": [
    {
     "name": "stdout",
     "output_type": "stream",
     "text": [
      "p1 Stoke: 12\n",
      "p1 new Stoke: 3\n"
     ]
    }
   ],
   "source": [
    "std::cout << \"p1 Stoke: \" << p1.stoke << std::endl;\n",
    "SetStoke(p1,3);\n",
    "std::cout << \"p1 new Stoke: \" << p1.stoke << std::endl;"
   ]
  }
 ],
 "metadata": {
  "kernelspec": {
   "display_name": "C++17",
   "language": "C++17",
   "name": "xcpp17"
  },
  "language_info": {
   "codemirror_mode": "text/x-c++src",
   "file_extension": ".cpp",
   "mimetype": "text/x-c++src",
   "name": "c++",
   "version": "17"
  }
 },
 "nbformat": 4,
 "nbformat_minor": 2
}
