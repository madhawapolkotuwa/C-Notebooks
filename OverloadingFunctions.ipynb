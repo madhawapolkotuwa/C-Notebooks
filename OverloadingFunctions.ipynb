{
 "cells": [
  {
   "cell_type": "code",
   "execution_count": 2,
   "metadata": {
    "vscode": {
     "languageId": "cpp"
    }
   },
   "outputs": [],
   "source": [
    "#include <iostream>"
   ]
  },
  {
   "cell_type": "markdown",
   "metadata": {},
   "source": [
    "### Overloading Functions with Different Parameters"
   ]
  },
  {
   "cell_type": "code",
   "execution_count": 84,
   "metadata": {
    "vscode": {
     "languageId": "cpp"
    }
   },
   "outputs": [],
   "source": [
    "int Add(int x, int y){\n",
    "    return x + y;\n",
    "};"
   ]
  },
  {
   "cell_type": "code",
   "execution_count": 85,
   "metadata": {
    "vscode": {
     "languageId": "cpp"
    }
   },
   "outputs": [],
   "source": [
    "double Add(double x, double y){\n",
    "    return x + y;\n",
    "};"
   ]
  },
  {
   "cell_type": "code",
   "execution_count": 86,
   "metadata": {
    "vscode": {
     "languageId": "cpp"
    }
   },
   "outputs": [],
   "source": [
    "double Add(double x , double y , double z){\n",
    "    return x + y + z;\n",
    "};"
   ]
  },
  {
   "cell_type": "code",
   "execution_count": 87,
   "metadata": {
    "vscode": {
     "languageId": "cpp"
    }
   },
   "outputs": [],
   "source": [
    "\n",
    "std::string Add(std::string x, std::string y = \" World!\"){ // // with default value\n",
    "    return x + y;\n",
    "};\n"
   ]
  },
  {
   "cell_type": "code",
   "execution_count": 90,
   "metadata": {
    "vscode": {
     "languageId": "cpp"
    }
   },
   "outputs": [
    {
     "name": "stdout",
     "output_type": "stream",
     "text": [
      "Add(1,2) = 3\n",
      "Add(1.2,2.3) = 3.5\n",
      "Add(1.0,2.2,3.5) = 6.7\n",
      "Add(\"Hello\") = Hello World!\n",
      "Add(\"Hello\" ,\" Madhawa\") = Hello Madhawa\n"
     ]
    }
   ],
   "source": [
    "std::cout << \"Add(1,2) = \" << Add(1,2) << std::endl;\n",
    "std::cout << \"Add(1.2,2.3) = \" << Add(1.2,2.3) << std::endl;\n",
    "std::cout << \"Add(1.0,2.2,3.5) = \" << Add(1.0,2.2,3.5) << std::endl;\n",
    "std::cout << \"Add(\\\"Hello\\\") = \" << Add(\"Hello\") << std::endl; \n",
    "std::cout << \"Add(\\\"Hello\\\" ,\\\" Madhawa\\\") = \" << Add(\"Hello\", \" Madhawa\") << std::endl;"
   ]
  },
  {
   "cell_type": "markdown",
   "metadata": {},
   "source": [
    "Function overloading allows multiple functions to have the same name but operate with different types or numbers of inputs. "
   ]
  },
  {
   "cell_type": "markdown",
   "metadata": {},
   "source": [
    "### Overloading functions with pointers"
   ]
  },
  {
   "cell_type": "code",
   "execution_count": 29,
   "metadata": {
    "vscode": {
     "languageId": "cpp"
    }
   },
   "outputs": [],
   "source": [
    "void Print(std::string* p_str, size_t count){\n",
    "    std::cout << \"Strings Print : \" << std::endl;\n",
    "    for(int i=0; i < count; i++){\n",
    "        std::cout << \" [\" << p_str[i] << \"] \";\n",
    "    }\n",
    "    std::cout << std::endl;\n",
    "};"
   ]
  },
  {
   "cell_type": "code",
   "execution_count": 30,
   "metadata": {
    "vscode": {
     "languageId": "cpp"
    }
   },
   "outputs": [],
   "source": [
    "void Print(int* p_int, size_t count){\n",
    "    std::cout << \"Intiger Print : \" << std::endl;\n",
    "    for(int i=0; i < count; i++){\n",
    "        std::cout << \" [\" << p_int[i] << \"] \";\n",
    "    }\n",
    "    std::cout << std::endl;\n",
    "};"
   ]
  },
  {
   "cell_type": "code",
   "execution_count": 31,
   "metadata": {
    "vscode": {
     "languageId": "cpp"
    }
   },
   "outputs": [
    {
     "name": "stdout",
     "output_type": "stream",
     "text": [
      "Strings Print : \n",
      " [Tokyo]  [Osaka]  [Hokkaido]  [Saitama] \n"
     ]
    }
   ],
   "source": [
    "std::string towns[] {\"Tokyo\",\"Osaka\",\"Hokkaido\",\"Saitama\"};\n",
    "\n",
    "Print(towns,std::size(towns));"
   ]
  },
  {
   "cell_type": "code",
   "execution_count": 32,
   "metadata": {
    "vscode": {
     "languageId": "cpp"
    }
   },
   "outputs": [
    {
     "name": "stdout",
     "output_type": "stream",
     "text": [
      "Intiger Print : \n",
      " [1]  [2]  [3]  [4]  [5]  [6]  [7] \n"
     ]
    }
   ],
   "source": [
    "int ints[] {1,2,3,4,5,6,7};\n",
    "Print(ints,std::size(ints));"
   ]
  },
  {
   "cell_type": "markdown",
   "metadata": {},
   "source": [
    "### Overloading functions with References & Pointers"
   ]
  },
  {
   "cell_type": "markdown",
   "metadata": {},
   "source": [
    "#### Function 1: Using a Reference\n",
    "\n",
    "1. Parameter Type: `double& ref_double` takes a reference to a double as a parameter.\n",
    "2. Function Behavior: Inside the function, `ref_double` directly refers to the variable that was passed in.  \n",
    "   By adding 2 to `ref_double`, we modify the original variable’s value since the reference is an alias to that variable."
   ]
  },
  {
   "cell_type": "code",
   "execution_count": null,
   "metadata": {
    "vscode": {
     "languageId": "cpp"
    }
   },
   "outputs": [],
   "source": [
    "void AddTwo(double& ref_double){\n",
    "    std::cout << \"as reference: \" << std::endl;\n",
    "    ref_double += 2; // Directly modifies the variable using a reference.\n",
    "};"
   ]
  },
  {
   "cell_type": "code",
   "execution_count": 71,
   "metadata": {
    "vscode": {
     "languageId": "cpp"
    }
   },
   "outputs": [
    {
     "name": "stdout",
     "output_type": "stream",
     "text": [
      "as reference: \n",
      "new val : 3.2\n"
     ]
    }
   ],
   "source": [
    "double val = 1.2;\n",
    "AddTwo(val);\n",
    "std::cout << \"new val : \" << val << std::endl;"
   ]
  },
  {
   "cell_type": "markdown",
   "metadata": {},
   "source": [
    "* Here, `val` is passed to `AddTwo` by reference.\n",
    "* The function outputs as reference:, then adds 2 to val, resulting in a new value of 3.2 for val."
   ]
  },
  {
   "cell_type": "markdown",
   "metadata": {},
   "source": [
    "#### Function 2: Using a Pointer\n",
    "1. Parameter Type: `double* p_double` takes a pointer to a double as a parameter.\n",
    "2. Function Behavior: Inside the function, `p_double[0]` accesses the value at the address to which `p_double` points. Adding 2 to `p_double[0]` modifies the original double value stored at that memory location."
   ]
  },
  {
   "cell_type": "code",
   "execution_count": null,
   "metadata": {
    "vscode": {
     "languageId": "cpp"
    }
   },
   "outputs": [],
   "source": [
    "void AddTwo(double* p_double){ \n",
    "    std::cout << \"as pointer: \" << std::endl;\n",
    "    p_double[0] += 2; // Modifies the variable by dereferencing the pointer.\n",
    "};"
   ]
  },
  {
   "cell_type": "code",
   "execution_count": 73,
   "metadata": {
    "vscode": {
     "languageId": "cpp"
    }
   },
   "outputs": [
    {
     "name": "stdout",
     "output_type": "stream",
     "text": [
      "as pointer: \n",
      "new val1 : 38.2\n"
     ]
    }
   ],
   "source": [
    "double val1 = 36.2;\n",
    "double* p_val1 = &val1;\n",
    "AddTwo(p_val1);\n",
    "std::cout << \"new val1 : \" << val1 << std::endl;"
   ]
  },
  {
   "cell_type": "markdown",
   "metadata": {},
   "source": [
    "* `p_val1` is a pointer to val1, and this pointer is passed to `AddTwo`.\n",
    "* The function outputs as pointer:, then adds 2 to `val1` through the pointer, resulting in `val1` becoming 38.2."
   ]
  },
  {
   "cell_type": "markdown",
   "metadata": {},
   "source": [
    "### More Advances Overloading Consepts\n",
    "\n",
    "* Overloadibg Operators"
   ]
  },
  {
   "cell_type": "code",
   "execution_count": 4,
   "metadata": {
    "vscode": {
     "languageId": "cpp"
    }
   },
   "outputs": [],
   "source": [
    "class Vector {\n",
    "public:\n",
    "    int x, y;\n",
    "    Vector(int x_val, int y_val) : x(x_val), y(y_val) {}\n",
    "\n",
    "    Vector operator+(const Vector& other) const {\n",
    "        return Vector(x + other.x, y + other.y);\n",
    "    }\n",
    "\n",
    "    Vector operator-(const Vector& other) const {\n",
    "        return Vector(x - other.x, y - other.y);\n",
    "    }\n",
    "};"
   ]
  },
  {
   "cell_type": "code",
   "execution_count": 5,
   "metadata": {
    "vscode": {
     "languageId": "cpp"
    }
   },
   "outputs": [
    {
     "name": "stdout",
     "output_type": "stream",
     "text": [
      "Result of addition: (4, 6)\n",
      "Result of subtraction: (2, 2)\n"
     ]
    }
   ],
   "source": [
    "Vector v1(3, 4);\n",
    "Vector v2(1, 2);\n",
    "\n",
    "Vector result = v1 + v2;\n",
    "std::cout << \"Result of addition: (\" << result.x << \", \" << result.y << \")\\n\";\n",
    "\n",
    "result = v1 - v2;\n",
    "std::cout << \"Result of subtraction: (\" << result.x << \", \" << result.y << \")\\n\";"
   ]
  }
 ],
 "metadata": {
  "kernelspec": {
   "display_name": "C++17",
   "language": "C++17",
   "name": "xcpp17"
  },
  "language_info": {
   "codemirror_mode": "text/x-c++src",
   "file_extension": ".cpp",
   "mimetype": "text/x-c++src",
   "name": "c++",
   "version": "17"
  }
 },
 "nbformat": 4,
 "nbformat_minor": 2
}
